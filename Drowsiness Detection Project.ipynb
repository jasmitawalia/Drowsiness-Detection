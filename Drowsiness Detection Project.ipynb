{
 "cells": [
  {
   "cell_type": "code",
   "execution_count": null,
   "metadata": {},
   "outputs": [],
   "source": [
    "#https://github.com/akshaybahadur21/Drowsiness_Detection/blob/master/drownsiness_detection.ipynb"
   ]
  },
  {
   "cell_type": "code",
   "execution_count": 1,
   "metadata": {},
   "outputs": [
    {
     "data": {
      "text/plain": [
       "'calcuates distance by different ways'"
      ]
     },
     "execution_count": 1,
     "metadata": {},
     "output_type": "execute_result"
    }
   ],
   "source": [
    "from scipy.spatial import distance\n",
    "'''calcuates distance by different ways'''"
   ]
  },
  {
   "cell_type": "code",
   "execution_count": 2,
   "metadata": {},
   "outputs": [],
   "source": [
    "import playsound\n"
   ]
  },
  {
   "cell_type": "code",
   "execution_count": 3,
   "metadata": {},
   "outputs": [
    {
     "data": {
      "text/plain": [
       "' The mouth can be accessed through points [48, 68].\\nThe right eyebrow through points [17, 22].\\nThe left eyebrow through points [22, 27].\\nThe right eye using [36, 42].\\nThe left eye with [42, 48].\\nThe nose using [27, 35].\\nAnd the jaw via [0, 17].\\nThese mappings are encoded inside the FACIAL_LANDMARKS_IDXS  dictionary inside face_utils of the imutils library:'"
      ]
     },
     "execution_count": 3,
     "metadata": {},
     "output_type": "execute_result"
    }
   ],
   "source": [
    "from imutils import face_utils\n",
    "\n",
    "''' The mouth can be accessed through points [48, 68].\n",
    "The right eyebrow through points [17, 22].\n",
    "The left eyebrow through points [22, 27].\n",
    "The right eye using [36, 42].\n",
    "The left eye with [42, 48].\n",
    "The nose using [27, 35].\n",
    "And the jaw via [0, 17].\n",
    "These mappings are encoded inside the FACIAL_LANDMARKS_IDXS  dictionary inside face_utils of the imutils library:'''"
   ]
  },
  {
   "cell_type": "code",
   "execution_count": 4,
   "metadata": {},
   "outputs": [
    {
     "data": {
      "text/plain": [
       "'IMUTILS =This package includes a series of OpenCV + \\nconvenience functions that perform basics tasks \\nsuch as translation, rotation, resizing, and skeletonization.'"
      ]
     },
     "execution_count": 4,
     "metadata": {},
     "output_type": "execute_result"
    }
   ],
   "source": [
    "import imutils\n",
    "'''IMUTILS =This package includes a series of OpenCV + \n",
    "convenience functions that perform basics tasks \n",
    "such as translation, rotation, resizing, and skeletonization.'''\n",
    "\n"
   ]
  },
  {
   "cell_type": "code",
   "execution_count": 5,
   "metadata": {},
   "outputs": [
    {
     "data": {
      "text/plain": [
       "'The facial landmark detector implemented inside dlib produces 68 \\n(x, y)-coordinates that map to specific facial structures.\\nThese 68 point mappings were obtained by training a shape predictor on the labeled iBUG 300-W dataset\\nhttps://www.pyimagesearch.com/2017/04/10/detect-eyes-nose-lips-jaw-dlib-opencv-python/'"
      ]
     },
     "execution_count": 5,
     "metadata": {},
     "output_type": "execute_result"
    }
   ],
   "source": [
    "import dlib\n",
    "\n",
    "'''The facial landmark detector implemented inside dlib produces 68 \n",
    "(x, y)-coordinates that map to specific facial structures.\n",
    "These 68 point mappings were obtained by training a shape predictor on the labeled iBUG 300-W dataset\n",
    "https://www.pyimagesearch.com/2017/04/10/detect-eyes-nose-lips-jaw-dlib-opencv-python/'''"
   ]
  },
  {
   "cell_type": "code",
   "execution_count": 6,
   "metadata": {},
   "outputs": [],
   "source": [
    "import cv2"
   ]
  },
  {
   "cell_type": "code",
   "execution_count": 8,
   "metadata": {},
   "outputs": [],
   "source": [
    "def eye_aspect_ratio(eye):\n",
    "    A=distance.euclidean(eye[1],eye[5])\n",
    "    B=distance.euclidean(eye[2],eye[4])\n",
    "    C = distance.euclidean(eye[0],eye[3])\n",
    "    ear= (A + B) / (2.0 * C)\n",
    "    return ear\n"
   ]
  },
  {
   "cell_type": "code",
   "execution_count": 17,
   "metadata": {},
   "outputs": [
    {
     "data": {
      "text/plain": [
       "dlib.fhog_object_detector"
      ]
     },
     "execution_count": 17,
     "metadata": {},
     "output_type": "execute_result"
    }
   ],
   "source": [
    "\n",
    "\n",
    "thresh = 0.25\n",
    "frame_check=20\n",
    "# initialize dlib's face detector (HOG-based) and then create\n",
    "# the facial landmark predictor\n",
    "detect = dlib.get_frontal_face_detector()\n",
    "predict = dlib.shape_predictor(\"shape_predictor_68_face_landmarks.dat\")\n",
    "type(detect)\n",
    "#https://www.youtube.com/watch?v=4ESLTAd3IOM==HOG\n"
   ]
  },
  {
   "cell_type": "code",
   "execution_count": 10,
   "metadata": {},
   "outputs": [],
   "source": [
    "# grab the indexes of the facial landmarks for the left and\n",
    "# right eye, respectively\n",
    "(lStart, lEnd) = face_utils.FACIAL_LANDMARKS_IDXS[\"left_eye\"]\n",
    "(rStart, rEnd) = face_utils.FACIAL_LANDMARKS_IDXS[\"right_eye\"]"
   ]
  },
  {
   "cell_type": "code",
   "execution_count": 25,
   "metadata": {},
   "outputs": [],
   "source": [
    "#0== default camera\n",
    "#1 or -1== any connected camera\n",
    "cap=cv2.VideoCapture(0)\n",
    "#monitor the ear\n",
    "flag=0\n",
    "while True:\n",
    "    #read image\n",
    "    ret, frame=cap.read()\n",
    "    frame = imutils.resize(frame, width=450)\n",
    "    gray = cv2.cvtColor(frame, cv2.COLOR_BGR2GRAY)\n",
    "    #applies dlib’s face detector to find and locate the face(s) in the image.\n",
    "    subjects = detect(gray, 0)\n",
    "    # loop over the face detections\n",
    "    for subject in subjects:\n",
    "        # determine the facial landmarks for the face region, then\n",
    "\t\t# convert the facial landmark (x, y)-coordinates to a NumPy\n",
    "\t\t# array\n",
    "        shape = predict(gray, subject)\n",
    "        shape = face_utils.shape_to_np(shape)#converting to NumPy Array\n",
    "\n",
    "        leftEye = shape[lStart:lEnd]\n",
    "        rightEye = shape[rStart:rEnd]\n",
    "        leftEAR = eye_aspect_ratio(leftEye)\n",
    "        rightEAR = eye_aspect_ratio(rightEye)\n",
    "        ear = (leftEAR + rightEAR) / 2.0\n",
    "        #https://www.learnopencv.com/convex-hull-using-opencv-in-python-and-c/\n",
    "        leftEyeHull = cv2.convexHull(leftEye)\n",
    "        rightEyeHull = cv2.convexHull(rightEye)\n",
    "        cv2.drawContours(frame, [leftEyeHull], -1, (0, 255, 0), 1)\n",
    "        cv2.drawContours(frame, [rightEyeHull], -1, (0, 255, 0), 1)\n",
    "        if ear < thresh:\n",
    "            flag += 1\n",
    "            #print (flag)\n",
    "            if flag >= frame_check:\n",
    "                sound_alarm('alarm.wav')\n",
    "                cv2.putText(frame, \"**************WAKE UP!****************\", (10, 30),\n",
    "                    cv2.FONT_HERSHEY_SIMPLEX, 0.7, (0, 0, 255), 2)\n",
    "                cv2.putText(frame, \"**************WAKE UP!****************\", (10,325),\n",
    "                    cv2.FONT_HERSHEY_SIMPLEX, 0.7, (0, 0, 255), 2)\n",
    "        else:\n",
    "            flag = 0\n",
    "    cv2.imshow(\"Frame\", frame)\n",
    "    key = cv2.waitKey(1) & 0xFF\n",
    "    if key == ord(\"q\"):\n",
    "        cv2.destroyAllWindows()\n",
    "        cap.release()\n",
    "        break"
   ]
  },
  {
   "cell_type": "code",
   "execution_count": null,
   "metadata": {},
   "outputs": [],
   "source": []
  }
 ],
 "metadata": {
  "kernelspec": {
   "display_name": "Python 3",
   "language": "python",
   "name": "python3"
  },
  "language_info": {
   "codemirror_mode": {
    "name": "ipython",
    "version": 3
   },
   "file_extension": ".py",
   "mimetype": "text/x-python",
   "name": "python",
   "nbconvert_exporter": "python",
   "pygments_lexer": "ipython3",
   "version": "3.7.3"
  }
 },
 "nbformat": 4,
 "nbformat_minor": 2
}
